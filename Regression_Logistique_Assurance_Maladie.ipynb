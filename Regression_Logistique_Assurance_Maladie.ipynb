{
 "cells": [
  {
   "cell_type": "markdown",
   "metadata": {},
   "source": [
    "Après avoir appliqué le modèle de régression multiple (cf. Kernel Jupyter Regression_Multiple_Assurance_Maladie), nous avons émis l'hypothèse suivante : Ce sont les Américains dont l'IMC est élevé qui représentent la catégorie d'individus dépensant davantage pour une couverture santé."
   ]
  },
  {
   "cell_type": "markdown",
   "metadata": {},
   "source": [
    "# 1. Importer les librairies"
   ]
  },
  {
   "cell_type": "code",
   "execution_count": 1,
   "metadata": {},
   "outputs": [],
   "source": [
    "import numpy as np\n",
    "import pandas as pd\n",
    "import matplotlib.pyplot as plt\n",
    "import seaborn as sns"
   ]
  },
  {
   "cell_type": "markdown",
   "metadata": {},
   "source": [
    "# 2. Chargement des données"
   ]
  },
  {
   "cell_type": "code",
   "execution_count": 2,
   "metadata": {},
   "outputs": [],
   "source": [
    "# Importer le dataset \n",
    "dataset = pd.read_csv(\"insurance3r2.csv\")"
   ]
  },
  {
   "cell_type": "code",
   "execution_count": 3,
   "metadata": {},
   "outputs": [],
   "source": [
    "# Isoler lignes et colonnes\n",
    "x = dataset.drop(['insuranceclaim'], axis=1)\n",
    "y = dataset['insuranceclaim']"
   ]
  },
  {
   "cell_type": "code",
   "execution_count": 4,
   "metadata": {},
   "outputs": [
    {
     "data": {
      "text/html": [
       "<div>\n",
       "<style scoped>\n",
       "    .dataframe tbody tr th:only-of-type {\n",
       "        vertical-align: middle;\n",
       "    }\n",
       "\n",
       "    .dataframe tbody tr th {\n",
       "        vertical-align: top;\n",
       "    }\n",
       "\n",
       "    .dataframe thead th {\n",
       "        text-align: right;\n",
       "    }\n",
       "</style>\n",
       "<table border=\"1\" class=\"dataframe\">\n",
       "  <thead>\n",
       "    <tr style=\"text-align: right;\">\n",
       "      <th></th>\n",
       "      <th>age</th>\n",
       "      <th>sex</th>\n",
       "      <th>bmi</th>\n",
       "      <th>steps</th>\n",
       "      <th>children</th>\n",
       "      <th>smoker</th>\n",
       "      <th>region</th>\n",
       "      <th>charges</th>\n",
       "    </tr>\n",
       "  </thead>\n",
       "  <tbody>\n",
       "    <tr>\n",
       "      <th>0</th>\n",
       "      <td>19</td>\n",
       "      <td>0</td>\n",
       "      <td>27.900</td>\n",
       "      <td>3009</td>\n",
       "      <td>0</td>\n",
       "      <td>1</td>\n",
       "      <td>3</td>\n",
       "      <td>16884.92400</td>\n",
       "    </tr>\n",
       "    <tr>\n",
       "      <th>1</th>\n",
       "      <td>18</td>\n",
       "      <td>1</td>\n",
       "      <td>33.770</td>\n",
       "      <td>3008</td>\n",
       "      <td>1</td>\n",
       "      <td>0</td>\n",
       "      <td>2</td>\n",
       "      <td>1725.55230</td>\n",
       "    </tr>\n",
       "    <tr>\n",
       "      <th>2</th>\n",
       "      <td>28</td>\n",
       "      <td>1</td>\n",
       "      <td>33.000</td>\n",
       "      <td>3009</td>\n",
       "      <td>3</td>\n",
       "      <td>0</td>\n",
       "      <td>2</td>\n",
       "      <td>4449.46200</td>\n",
       "    </tr>\n",
       "    <tr>\n",
       "      <th>3</th>\n",
       "      <td>33</td>\n",
       "      <td>1</td>\n",
       "      <td>22.705</td>\n",
       "      <td>10009</td>\n",
       "      <td>0</td>\n",
       "      <td>0</td>\n",
       "      <td>1</td>\n",
       "      <td>21984.47061</td>\n",
       "    </tr>\n",
       "    <tr>\n",
       "      <th>4</th>\n",
       "      <td>32</td>\n",
       "      <td>1</td>\n",
       "      <td>28.880</td>\n",
       "      <td>8010</td>\n",
       "      <td>0</td>\n",
       "      <td>0</td>\n",
       "      <td>1</td>\n",
       "      <td>3866.85520</td>\n",
       "    </tr>\n",
       "  </tbody>\n",
       "</table>\n",
       "</div>"
      ],
      "text/plain": [
       "   age  sex     bmi  steps  children  smoker  region      charges\n",
       "0   19    0  27.900   3009         0       1       3  16884.92400\n",
       "1   18    1  33.770   3008         1       0       2   1725.55230\n",
       "2   28    1  33.000   3009         3       0       2   4449.46200\n",
       "3   33    1  22.705  10009         0       0       1  21984.47061\n",
       "4   32    1  28.880   8010         0       0       1   3866.85520"
      ]
     },
     "execution_count": 4,
     "metadata": {},
     "output_type": "execute_result"
    }
   ],
   "source": [
    "# Afficher les 5 premières lignes des données\n",
    "x.head()"
   ]
  },
  {
   "cell_type": "code",
   "execution_count": 5,
   "metadata": {},
   "outputs": [
    {
     "data": {
      "text/plain": [
       "age           int64\n",
       "sex           int64\n",
       "bmi         float64\n",
       "steps         int64\n",
       "children      int64\n",
       "smoker        int64\n",
       "region        int64\n",
       "charges     float64\n",
       "dtype: object"
      ]
     },
     "execution_count": 5,
     "metadata": {},
     "output_type": "execute_result"
    }
   ],
   "source": [
    "# Afficher le type de données\n",
    "x.dtypes"
   ]
  },
  {
   "cell_type": "markdown",
   "metadata": {},
   "source": [
    "On remarque que les colonnes \"bmi\" et \"charges\" sont de type float64."
   ]
  },
  {
   "cell_type": "code",
   "execution_count": 6,
   "metadata": {},
   "outputs": [
    {
     "data": {
      "text/plain": [
       "age         int64\n",
       "sex         int64\n",
       "bmi         int32\n",
       "steps       int64\n",
       "children    int64\n",
       "smoker      int64\n",
       "region      int64\n",
       "charges     int32\n",
       "dtype: object"
      ]
     },
     "execution_count": 6,
     "metadata": {},
     "output_type": "execute_result"
    }
   ],
   "source": [
    "# Convertir \"bmi\" format float 64 en integer et afficher le type de données\n",
    "x[\"bmi\"]= x.bmi.astype(int)\n",
    "x[\"charges\"]= x.bmi.astype(int)\n",
    "x.dtypes"
   ]
  },
  {
   "cell_type": "markdown",
   "metadata": {},
   "source": [
    "# 3. Analyse exploratoire"
   ]
  },
  {
   "cell_type": "code",
   "execution_count": 7,
   "metadata": {},
   "outputs": [
    {
     "data": {
      "text/plain": [
       "<seaborn.axisgrid.FacetGrid at 0x203622ed7f0>"
      ]
     },
     "execution_count": 7,
     "metadata": {},
     "output_type": "execute_result"
    },
    {
     "data": {
      "image/png": "[encoded data removed]",
      "text/plain": [
       "<Figure size 360x360 with 1 Axes>"
      ]
     },
     "metadata": {
      "needs_background": "light"
     },
     "output_type": "display_data"
    }
   ],
   "source": [
    "# Visualisation exploratoire\n",
    "#sns.lmplot(x=\"children\", y= \"insuranceclaim\", data = dataset, logistic = True)\n",
    "sns.lmplot(x=\"bmi\", y= \"insuranceclaim\", data = dataset, logistic = True)"
   ]
  },
  {
   "cell_type": "markdown",
   "metadata": {},
   "source": [
    "Observation : que la méthode de régression logistique est caractérisée par une courbe sigmoide. Les valeurs proche de 0 représentent le \"NON\", les valeurs proches de 1 représentent le \"OUI\". De plus, nous remarquons que la valeur de bmi proche de 1 est à environ 53. Ce qui confirme le calcul du bmi maximum dans le précédant modèle de régression multiple (cf. Kernel Jupyter Regression_Multiple_Assurance_Maladie)."
   ]
  },
  {
   "cell_type": "markdown",
   "metadata": {},
   "source": [
    "# 4. Mise en place du modèle de Régression Logistique"
   ]
  },
  {
   "cell_type": "code",
   "execution_count": 8,
   "metadata": {},
   "outputs": [],
   "source": [
    "# Séparer le dataset en train et en test\n",
    "from sklearn.model_selection import train_test_split\n",
    "x_train, x_test, y_train, y_test =  train_test_split(x,y, test_size = 0.2, random_state =0)"
   ]
  },
  {
   "cell_type": "code",
   "execution_count": 9,
   "metadata": {},
   "outputs": [
    {
     "data": {
      "text/plain": [
       "LogisticRegression(C=1.0, class_weight=None, dual=False, fit_intercept=True,\n",
       "          intercept_scaling=1, max_iter=100, multi_class='warn',\n",
       "          n_jobs=None, penalty='l2', random_state=0, solver='warn',\n",
       "          tol=0.0001, verbose=0, warm_start=False)"
      ]
     },
     "execution_count": 9,
     "metadata": {},
     "output_type": "execute_result"
    }
   ],
   "source": [
    "# Pour résoudre les problèmes de Warning (optionnel)\n",
    "import warnings\n",
    "warnings.filterwarnings(\"ignore\", category=FutureWarning)\n",
    "\n",
    "# Importer le modèle regeression logistique\n",
    "from sklearn.linear_model import LogisticRegression\n",
    "classifier = LogisticRegression(random_state=0)\n",
    "classifier.fit(x_train, y_train)"
   ]
  },
  {
   "cell_type": "code",
   "execution_count": 10,
   "metadata": {},
   "outputs": [],
   "source": [
    "# predire les resultats\n",
    "y_pred = classifier.predict(x_test)"
   ]
  },
  {
   "cell_type": "code",
   "execution_count": 11,
   "metadata": {},
   "outputs": [
    {
     "data": {
      "text/plain": [
       "149"
      ]
     },
     "execution_count": 11,
     "metadata": {},
     "output_type": "execute_result"
    }
   ],
   "source": [
    "# somme des résultats de la prédiction\n",
    "np.sum(y_pred)"
   ]
  },
  {
   "cell_type": "code",
   "execution_count": 12,
   "metadata": {},
   "outputs": [
    {
     "name": "stdout",
     "output_type": "stream",
     "text": [
      "Accuracy score : 0.8955\n"
     ]
    }
   ],
   "source": [
    "# Afficher le degré de précision pour la prédiction\n",
    "from sklearn.metrics import accuracy_score\n",
    "print(\"Accuracy score : {}\".format(round(accuracy_score(y_test, y_pred),4)))"
   ]
  },
  {
   "cell_type": "markdown",
   "metadata": {},
   "source": [
    "Nous pouvons prédire à 89.5% que ce sont les Améericains dont l'IMC est élevé qui dépensent le plus pour bénécficier d'une assurance santé."
   ]
  },
  {
   "cell_type": "markdown",
   "metadata": {},
   "source": [
    "### 4.a) Matrice  de confusion"
   ]
  },
  {
   "cell_type": "code",
   "execution_count": 13,
   "metadata": {},
   "outputs": [
    {
     "data": {
      "text/plain": [
       "array([[107,  12],\n",
       "       [ 16, 133]], dtype=int64)"
      ]
     },
     "execution_count": 13,
     "metadata": {},
     "output_type": "execute_result"
    }
   ],
   "source": [
    "# 1ère méthode : Matrice de confusion\n",
    "from sklearn.metrics import confusion_matrix\n",
    "confusion_matrix(y_pred, y_test)"
   ]
  },
  {
   "cell_type": "code",
   "execution_count": 14,
   "metadata": {},
   "outputs": [
    {
     "data": {
      "text/html": [
       "<div>\n",
       "<style scoped>\n",
       "    .dataframe tbody tr th:only-of-type {\n",
       "        vertical-align: middle;\n",
       "    }\n",
       "\n",
       "    .dataframe tbody tr th {\n",
       "        vertical-align: top;\n",
       "    }\n",
       "\n",
       "    .dataframe thead th {\n",
       "        text-align: right;\n",
       "    }\n",
       "</style>\n",
       "<table border=\"1\" class=\"dataframe\">\n",
       "  <thead>\n",
       "    <tr style=\"text-align: right;\">\n",
       "      <th>insuranceclaim</th>\n",
       "      <th>0</th>\n",
       "      <th>1</th>\n",
       "    </tr>\n",
       "    <tr>\n",
       "      <th>row_0</th>\n",
       "      <th></th>\n",
       "      <th></th>\n",
       "    </tr>\n",
       "  </thead>\n",
       "  <tbody>\n",
       "    <tr>\n",
       "      <th>0</th>\n",
       "      <td>107</td>\n",
       "      <td>12</td>\n",
       "    </tr>\n",
       "    <tr>\n",
       "      <th>1</th>\n",
       "      <td>16</td>\n",
       "      <td>133</td>\n",
       "    </tr>\n",
       "  </tbody>\n",
       "</table>\n",
       "</div>"
      ],
      "text/plain": [
       "insuranceclaim    0    1\n",
       "row_0                   \n",
       "0               107   12\n",
       "1                16  133"
      ]
     },
     "execution_count": 14,
     "metadata": {},
     "output_type": "execute_result"
    }
   ],
   "source": [
    "# 2ème méthode : Matrice de confusion\n",
    "x_confusion = pd.crosstab(y_pred, y_test)\n",
    "x_confusion"
   ]
  },
  {
   "cell_type": "markdown",
   "metadata": {},
   "source": [
    "Même résultats de prédiction que dans la 1ère méthode. Les valeurs \"107\" et \"133\" sont respectivement les \"vrai négatifs\" et les \"vrai positifs\". Les valeurs \"12\" et \"16\" sont respectivement les \"faux négatifs\" et les \"faux positifs\". Résultat de prédiction : 107+133/268 = 89.5% de chance que ce sont les américains obèses qui sollicitent le plus une couverture santé. Donc, ce calcul correspond à celui donné précedemment par l'accuracy. Le modèle de prédiction utilisé convient à cette étude."
   ]
  },
  {
   "cell_type": "markdown",
   "metadata": {},
   "source": [
    "###  4.b) Courbe ROC (caractéristique de performance)"
   ]
  },
  {
   "cell_type": "code",
   "execution_count": 15,
   "metadata": {},
   "outputs": [],
   "source": [
    "# Courbe ROC, on calcule le ROC (Receiving Operator Characteristic)\n",
    "from sklearn.metrics import roc_auc_score\n",
    "from sklearn.metrics import roc_curve"
   ]
  },
  {
   "cell_type": "code",
   "execution_count": 16,
   "metadata": {},
   "outputs": [],
   "source": [
    "logit_roc_auc = roc_auc_score(y_test, classifier.predict(x_test))\n",
    "fpr, tpr, thresholds = roc_curve(y_test, classifier.predict_proba(x_test)[:,1])"
   ]
  },
  {
   "cell_type": "code",
   "execution_count": 17,
   "metadata": {},
   "outputs": [
    {
     "data": {
      "image/png": "[encoded data removed]",
      "text/plain": [
       "<Figure size 432x288 with 1 Axes>"
      ]
     },
     "metadata": {
      "needs_background": "light"
     },
     "output_type": "display_data"
    }
   ],
   "source": [
    "# on ajoute faux positif, faux negatif et un label\n",
    "plt.plot(fpr, tpr, label='Logistic Regression (area = %0.2f)' % logit_roc_auc)\n",
    "plt.plot([0, 1], [0, 1],'r--')\n",
    "plt.xlim([0.0, 1.0])\n",
    "plt.ylim([0.0, 1.05])\n",
    "plt.xlabel('Taux de faux positifs')\n",
    "plt.ylabel('Taux de vrais positifs')\n",
    "plt.title('ROC')\n",
    "plt.legend(loc=\"lower right\")\n",
    "plt.show()"
   ]
  },
  {
   "cell_type": "markdown",
   "metadata": {},
   "source": [
    "Résultat : visiblement, l'aire sous la courbe ROC est grande, la courbe s’écarte de la ligne du classificateur aléatoire et se rapproche du coude du classificateur idéal (qui passe de (0, 0) à (0, 1) et se rapproche de (1, 1)). Nous observons le résultat de l'air \"0.89\", ce qui correspond au résultat de prédiction"
   ]
  },
  {
   "cell_type": "markdown",
   "metadata": {},
   "source": [
    "# 5. Prédiction réelle"
   ]
  },
  {
   "cell_type": "code",
   "execution_count": 18,
   "metadata": {},
   "outputs": [
    {
     "data": {
      "text/plain": [
       "145"
      ]
     },
     "execution_count": 18,
     "metadata": {},
     "output_type": "execute_result"
    }
   ],
   "source": [
    "# somme des résultats réels\n",
    "np.sum(y_test)"
   ]
  },
  {
   "cell_type": "markdown",
   "metadata": {},
   "source": [
    "Résultats réels : 145/268 = 54.1% de chance que ce sont les Américains dont l'IMC est élevé qui dépensent davantage en Assurance Santé."
   ]
  },
  {
   "cell_type": "markdown",
   "metadata": {},
   "source": [
    "# 6. Conclusion générale et Perspectives\n",
    "\n",
    "Avec le modèle de régression multiple nous pouvons prédire à 68% le montant des charges de couverture santé. La quantité et la qualité des données ne permettent pas d'avoir une meilleure prédiction (entre 80% et 90% si possible). En effet, il manque les données du Nord Est. Par conséquent, il est nécessaire d'ajouter d'autres données dans l'avenir. Quand à la régression logistique, nous pouvons réellement prédire à 54.1% de chance que c'est la catégorie d'Américains dont l'IMC est elevé, qui dépensent davantage en couverture santé, soit une différence de : 89.5 - 54.1 = 35.4% par rapport à la prédiction initiale avec les données d'entrainement. "
   ]
  },
  {
   "cell_type": "markdown",
   "metadata": {},
   "source": [
    "Malgré les 215 milliards de dollars dépensés chaque année, il semblerait que les pouvoirs publics ne s'investissent pas suffisamment. De plus, les assureurs privés ont tendance à rejeter les dossiers car considérés comme non , comme des opérations de rhinoplasties. Pourtant l'obésité est reconnue comme maladie chronique par l'OMS. Les assureurs comme Obamacare et Medicaid ne couvrent pas non plus les cas d'obésité. Il serait préférable de mener une enquête publique pour interroger tous les Américains dont les dossiers ont été rejetés par les compagnies d'assurances. La fixation d'un tarif abordable par les pouvoirs publics pour garantir une couverture santé, serait une solution idéale."
   ]
  }
 ],
 "metadata": {
  "kernelspec": {
   "display_name": "Python 3",
   "language": "python",
   "name": "python3"
  },
  "language_info": {
   "codemirror_mode": {
    "name": "ipython",
    "version": 3
   },
   "file_extension": ".py",
   "mimetype": "text/x-python",
   "name": "python",
   "nbconvert_exporter": "python",
   "pygments_lexer": "ipython3",
   "version": "3.6.8"
  }
 },
 "nbformat": 4,
 "nbformat_minor": 2
}
